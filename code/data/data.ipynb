{
 "cells": [
  {
   "cell_type": "markdown",
   "metadata": {},
   "source": [
    "# EXTRACCIÓN DE DATOS Y PRETRATAMIENTO"
   ]
  },
  {
   "cell_type": "code",
   "execution_count": 1,
   "metadata": {},
   "outputs": [],
   "source": [
    "import matplotlib.pyplot as plt\n",
    "import numpy as np\n",
    "import pandas as pd"
   ]
  },
  {
   "cell_type": "markdown",
   "metadata": {},
   "source": [
    "Los datos han sido extraídos del artículo de [Amaresh Mishra Dr., Markus K. R. Fischer Dipl.-Chem., Peter Bäuerle Prof. Dr.](https://onlinelibrary.wiley.com/doi/full/10.1002/anie.200804709)"
   ]
  },
  {
   "cell_type": "code",
   "execution_count": 2,
   "metadata": {},
   "outputs": [
    {
     "data": {
      "text/html": [
       "<div>\n",
       "<style scoped>\n",
       "    .dataframe tbody tr th:only-of-type {\n",
       "        vertical-align: middle;\n",
       "    }\n",
       "\n",
       "    .dataframe tbody tr th {\n",
       "        vertical-align: top;\n",
       "    }\n",
       "\n",
       "    .dataframe thead th {\n",
       "        text-align: right;\n",
       "    }\n",
       "</style>\n",
       "<table border=\"1\" class=\"dataframe\">\n",
       "  <thead>\n",
       "    <tr style=\"text-align: right;\">\n",
       "      <th></th>\n",
       "      <th>ID</th>\n",
       "      <th>SMILES</th>\n",
       "      <th>J</th>\n",
       "      <th>V</th>\n",
       "      <th>FF</th>\n",
       "      <th>n</th>\n",
       "      <th>Ref</th>\n",
       "    </tr>\n",
       "  </thead>\n",
       "  <tbody>\n",
       "    <tr>\n",
       "      <th>0</th>\n",
       "      <td>1</td>\n",
       "      <td>CN(C)c2ccc(/C(=C\\C=C\\C=C(C#N)\\C(=O)O)c1ccc(N(C...</td>\n",
       "      <td>12.9</td>\n",
       "      <td>0.71</td>\n",
       "      <td>0.74</td>\n",
       "      <td>6.8</td>\n",
       "      <td>39,41</td>\n",
       "    </tr>\n",
       "    <tr>\n",
       "      <th>1</th>\n",
       "      <td>2</td>\n",
       "      <td>CCN(CC)c2ccc(/C(=C\\C=C\\C=C(C#N)\\C(=O)O)c1ccc(N...</td>\n",
       "      <td>16.4</td>\n",
       "      <td>0.61</td>\n",
       "      <td>0.66</td>\n",
       "      <td>6.6</td>\n",
       "      <td>39,41</td>\n",
       "    </tr>\n",
       "    <tr>\n",
       "      <th>2</th>\n",
       "      <td>3</td>\n",
       "      <td>CN(C)c3ccc(/C(=C/c1ccc(/C=C(C#N)/C(=O)O)s1)c2c...</td>\n",
       "      <td>12.5</td>\n",
       "      <td>0.68</td>\n",
       "      <td>0.69</td>\n",
       "      <td>5.9</td>\n",
       "      <td>40</td>\n",
       "    </tr>\n",
       "    <tr>\n",
       "      <th>3</th>\n",
       "      <td>4</td>\n",
       "      <td>CC2(C)CC[N]1CCC(C)(C)c3c1c2cc4cc(/C=C/C=C(C#N)...</td>\n",
       "      <td>14.0</td>\n",
       "      <td>0.60</td>\n",
       "      <td>0.71</td>\n",
       "      <td>6.0</td>\n",
       "      <td>42,45</td>\n",
       "    </tr>\n",
       "    <tr>\n",
       "      <th>4</th>\n",
       "      <td>5</td>\n",
       "      <td>CC2(C)CC[N]1CCC(C)(C)c4c1c2cc5cc(/C=C\\c3ccc(/C...</td>\n",
       "      <td>14.7</td>\n",
       "      <td>0.67</td>\n",
       "      <td>0.73</td>\n",
       "      <td>7.2</td>\n",
       "      <td>44</td>\n",
       "    </tr>\n",
       "    <tr>\n",
       "      <th>5</th>\n",
       "      <td>6</td>\n",
       "      <td>CC2(C)CC[N]1CCC(C)(C)c5c1c2cc6cc(c4ccc(c3ccc(/...</td>\n",
       "      <td>14.3</td>\n",
       "      <td>0.73</td>\n",
       "      <td>0.74</td>\n",
       "      <td>7.7</td>\n",
       "      <td>37, 44, 46, 47</td>\n",
       "    </tr>\n",
       "    <tr>\n",
       "      <th>6</th>\n",
       "      <td>7</td>\n",
       "      <td>CC2(C)CC[N]1CCC(C)(C)c5c1c2cc6cc(c4ccc(/C=C\\c3...</td>\n",
       "      <td>15.9</td>\n",
       "      <td>0.69</td>\n",
       "      <td>0.75</td>\n",
       "      <td>8.2</td>\n",
       "      <td>48</td>\n",
       "    </tr>\n",
       "    <tr>\n",
       "      <th>7</th>\n",
       "      <td>8</td>\n",
       "      <td>CC2(C)CC[N]1CCC(C)(C)c5c1c2cc6cc(/C=C(C#N)/c4c...</td>\n",
       "      <td>18.8</td>\n",
       "      <td>0.53</td>\n",
       "      <td>0.65</td>\n",
       "      <td>6.5</td>\n",
       "      <td>49</td>\n",
       "    </tr>\n",
       "    <tr>\n",
       "      <th>8</th>\n",
       "      <td>9</td>\n",
       "      <td>CCCCCCc4cc(c3sc(c2sc(c1sc(/C=C(C#N)/C(=O)O)cc1...</td>\n",
       "      <td>14.0</td>\n",
       "      <td>0.74</td>\n",
       "      <td>0.74</td>\n",
       "      <td>7.7</td>\n",
       "      <td>50,51</td>\n",
       "    </tr>\n",
       "    <tr>\n",
       "      <th>9</th>\n",
       "      <td>10</td>\n",
       "      <td>CCCCCCc1cc(/C=C(C#N)/C(=O)O)sc1c7ccc(c6ccc(c5c...</td>\n",
       "      <td>10.2</td>\n",
       "      <td>0.67</td>\n",
       "      <td>0.64</td>\n",
       "      <td>4.4</td>\n",
       "      <td>51</td>\n",
       "    </tr>\n",
       "  </tbody>\n",
       "</table>\n",
       "</div>"
      ],
      "text/plain": [
       "   ID                                             SMILES     J     V    FF  \\\n",
       "0   1  CN(C)c2ccc(/C(=C\\C=C\\C=C(C#N)\\C(=O)O)c1ccc(N(C...  12.9  0.71  0.74   \n",
       "1   2  CCN(CC)c2ccc(/C(=C\\C=C\\C=C(C#N)\\C(=O)O)c1ccc(N...  16.4  0.61  0.66   \n",
       "2   3  CN(C)c3ccc(/C(=C/c1ccc(/C=C(C#N)/C(=O)O)s1)c2c...  12.5  0.68  0.69   \n",
       "3   4  CC2(C)CC[N]1CCC(C)(C)c3c1c2cc4cc(/C=C/C=C(C#N)...  14.0  0.60  0.71   \n",
       "4   5  CC2(C)CC[N]1CCC(C)(C)c4c1c2cc5cc(/C=C\\c3ccc(/C...  14.7  0.67  0.73   \n",
       "5   6  CC2(C)CC[N]1CCC(C)(C)c5c1c2cc6cc(c4ccc(c3ccc(/...  14.3  0.73  0.74   \n",
       "6   7  CC2(C)CC[N]1CCC(C)(C)c5c1c2cc6cc(c4ccc(/C=C\\c3...  15.9  0.69  0.75   \n",
       "7   8  CC2(C)CC[N]1CCC(C)(C)c5c1c2cc6cc(/C=C(C#N)/c4c...  18.8  0.53  0.65   \n",
       "8   9  CCCCCCc4cc(c3sc(c2sc(c1sc(/C=C(C#N)/C(=O)O)cc1...  14.0  0.74  0.74   \n",
       "9  10  CCCCCCc1cc(/C=C(C#N)/C(=O)O)sc1c7ccc(c6ccc(c5c...  10.2  0.67  0.64   \n",
       "\n",
       "     n             Ref  \n",
       "0  6.8           39,41  \n",
       "1  6.6           39,41  \n",
       "2  5.9              40  \n",
       "3  6.0           42,45  \n",
       "4  7.2              44  \n",
       "5  7.7  37, 44, 46, 47  \n",
       "6  8.2              48  \n",
       "7  6.5              49  \n",
       "8  7.7           50,51  \n",
       "9  4.4              51  "
      ]
     },
     "execution_count": 2,
     "metadata": {},
     "output_type": "execute_result"
    }
   ],
   "source": [
    "data = pd.read_csv('https://docs.google.com/spreadsheets/d/e/2PACX-1vRpQ_-OWXKsrAwqXnWYRhxGIV6fqigu1XLgoJMIdRCH4fdTW8AYtPt0-KkbI2gaiV-ITJH2Gouclfjg/pub?gid=0&single=true&output=csv')\n",
    "data.head(10)"
   ]
  },
  {
   "cell_type": "code",
   "execution_count": 7,
   "metadata": {},
   "outputs": [],
   "source": [
    "from rdkit import Chem\n",
    "from rdkit.Chem import Draw\n",
    "from rdkit.Chem.Draw import rdMolDraw2D\n",
    "from rdkit.Chem.Draw import IPythonConsole\n",
    "from rdkit.Chem.Draw import SimilarityMaps\n",
    "from rdkit.Chem import RDConfig\n",
    "from rdkit.Chem import AllChem\n",
    "from rdkit.Chem import DataStructs"
   ]
  },
  {
   "cell_type": "code",
   "execution_count": 9,
   "metadata": {},
   "outputs": [
    {
     "data": {
      "application/3dmoljs_load.v0": "<div id=\"3dmolviewer_16606684112881746\"  style=\"position: relative; width: 300px; height: 300px\">\n        <p id=\"3dmolwarning_16606684112881746\" style=\"background-color:#ffcccc;color:black\">You appear to be running in JupyterLab (or JavaScript failed to load for some other reason).  You need to install the 3dmol extension: <br>\n        <tt>jupyter labextension install jupyterlab_3dmol</tt></p>\n        </div>\n<script>\n\nvar loadScriptAsync = function(uri){\n  return new Promise((resolve, reject) => {\n    var tag = document.createElement('script');\n    tag.src = uri;\n    tag.async = true;\n    tag.onload = () => {\n      resolve();\n    };\n  var firstScriptTag = document.getElementsByTagName('script')[0];\n  firstScriptTag.parentNode.insertBefore(tag, firstScriptTag);\n});\n};\n\nif(typeof $3Dmolpromise === 'undefined') {\n$3Dmolpromise = null;\n  $3Dmolpromise = loadScriptAsync('https://cdn.jsdelivr.net/npm/3dmol@latest/build/3Dmol-min.min.js');\n}\n\nvar viewer_16606684112881746 = null;\nvar warn = document.getElementById(\"3dmolwarning_16606684112881746\");\nif(warn) {\n    warn.parentNode.removeChild(warn);\n}\n$3Dmolpromise.then(function() {\nviewer_16606684112881746 = $3Dmol.createViewer($(\"#3dmolviewer_16606684112881746\"),{backgroundColor:\"white\"});\nviewer_16606684112881746.zoomTo();\n\tviewer_16606684112881746.addModel(\"\\n     RDKit          3D\\n\\n 57 59  0  0  0  0  0  0  0  0999 V2000\\n   -7.3518   -0.6579   -0.7121 C   0  0  0  0  0  0  0  0  0  0  0  0\\n   -6.6022   -0.3673    0.5098 N   0  0  0  0  0  0  0  0  0  0  0  0\\n   -7.2163    0.6092    1.4054 C   0  0  0  0  0  0  0  0  0  0  0  0\\n   -5.2043   -0.4516    0.4414 C   0  0  0  0  0  0  0  0  0  0  0  0\\n   -4.3576    0.3330    1.2416 C   0  0  0  0  0  0  0  0  0  0  0  0\\n   -2.9593    0.2433    1.1639 C   0  0  0  0  0  0  0  0  0  0  0  0\\n   -2.3530   -0.6575    0.2902 C   0  0  0  0  0  0  0  0  0  0  0  0\\n   -0.8712   -0.7142    0.1852 C   0  0  0  0  0  0  0  0  0  0  0  0\\n   -0.2991   -1.9062    0.4790 C   0  0  0  0  0  0  0  0  0  0  0  0\\n    1.0970   -2.1786    0.3799 C   0  0  0  0  0  0  0  0  0  0  0  0\\n    1.9711   -1.9743   -0.6698 C   0  0  0  0  0  0  0  0  0  0  0  0\\n    3.3106   -2.3484   -0.3601 C   0  0  0  0  0  0  0  0  0  0  0  0\\n    3.4528   -2.8231    0.9308 C   0  0  0  0  0  0  0  0  0  0  0  0\\n    4.5988   -3.2722    1.6551 C   0  0  0  0  0  0  0  0  0  0  0  0\\n    5.8272   -2.7192    1.5799 C   0  0  0  0  0  0  0  0  0  0  0  0\\n    6.1482   -1.5933    0.7713 C   0  0  0  0  0  0  0  0  0  0  0  0\\n    6.3936   -0.6822    0.0941 N   0  0  0  0  0  0  0  0  0  0  0  0\\n    6.9358   -3.2609    2.3983 C   0  0  0  0  0  0  0  0  0  0  0  0\\n    8.0833   -2.8483    2.4029 O   0  0  0  0  0  0  0  0  0  0  0  0\\n    6.5907   -4.2950    3.1873 O   0  0  0  0  0  0  0  0  0  0  0  0\\n    1.9137   -2.8964    1.7084 S   0  0  0  0  0  0  0  0  0  0  0  0\\n   -0.0779    0.4861   -0.1893 C   0  0  0  0  0  0  0  0  0  0  0  0\\n    0.8866    1.0204    0.6666 C   0  0  0  0  0  0  0  0  0  0  0  0\\n    1.6332    2.1420    0.2853 C   0  0  0  0  0  0  0  0  0  0  0  0\\n    1.4452    2.7795   -0.9520 C   0  0  0  0  0  0  0  0  0  0  0  0\\n    2.2202    3.8977   -1.3004 N   0  0  0  0  0  0  0  0  0  0  0  0\\n    1.8641    4.6457   -2.5034 C   0  0  0  0  0  0  0  0  0  0  0  0\\n    3.6625    3.7328   -1.0914 C   0  0  0  0  0  0  0  0  0  0  0  0\\n    0.4315    2.2604   -1.7723 C   0  0  0  0  0  0  0  0  0  0  0  0\\n   -0.3158    1.1319   -1.4039 C   0  0  0  0  0  0  0  0  0  0  0  0\\n   -3.1707   -1.4659   -0.5012 C   0  0  0  0  0  0  0  0  0  0  0  0\\n   -4.5671   -1.3652   -0.4175 C   0  0  0  0  0  0  0  0  0  0  0  0\\n   -7.3195   -1.7251   -0.9505 H   0  0  0  0  0  0  0  0  0  0  0  0\\n   -8.4108   -0.4040   -0.5996 H   0  0  0  0  0  0  0  0  0  0  0  0\\n   -6.9677   -0.0840   -1.5614 H   0  0  0  0  0  0  0  0  0  0  0  0\\n   -8.3034    0.4771    1.4373 H   0  0  0  0  0  0  0  0  0  0  0  0\\n   -6.8676    0.4787    2.4355 H   0  0  0  0  0  0  0  0  0  0  0  0\\n   -7.0124    1.6331    1.0742 H   0  0  0  0  0  0  0  0  0  0  0  0\\n   -4.7609    1.0581    1.9417 H   0  0  0  0  0  0  0  0  0  0  0  0\\n   -2.3535    0.8908    1.7936 H   0  0  0  0  0  0  0  0  0  0  0  0\\n   -0.9220   -2.7306    0.8290 H   0  0  0  0  0  0  0  0  0  0  0  0\\n    1.6651   -1.5638   -1.6241 H   0  0  0  0  0  0  0  0  0  0  0  0\\n    4.1247   -2.2563   -1.0707 H   0  0  0  0  0  0  0  0  0  0  0  0\\n    4.4255   -4.1001    2.3414 H   0  0  0  0  0  0  0  0  0  0  0  0\\n    7.4228   -4.5248    3.6545 H   0  0  0  0  0  0  0  0  0  0  0  0\\n    1.0733    0.5698    1.6379 H   0  0  0  0  0  0  0  0  0  0  0  0\\n    2.3588    2.5268    0.9951 H   0  0  0  0  0  0  0  0  0  0  0  0\\n    2.0715    4.0675   -3.4116 H   0  0  0  0  0  0  0  0  0  0  0  0\\n    2.4438    5.5745   -2.5564 H   0  0  0  0  0  0  0  0  0  0  0  0\\n    0.8098    4.9440   -2.4887 H   0  0  0  0  0  0  0  0  0  0  0  0\\n    4.0436    2.8644   -1.6411 H   0  0  0  0  0  0  0  0  0  0  0  0\\n    4.2076    4.6142   -1.4434 H   0  0  0  0  0  0  0  0  0  0  0  0\\n    3.9123    3.6288   -0.0326 H   0  0  0  0  0  0  0  0  0  0  0  0\\n    0.2061    2.7067   -2.7350 H   0  0  0  0  0  0  0  0  0  0  0  0\\n   -1.0814    0.7620   -2.0820 H   0  0  0  0  0  0  0  0  0  0  0  0\\n   -2.7360   -2.1763   -1.1998 H   0  0  0  0  0  0  0  0  0  0  0  0\\n   -5.1498   -2.0356   -1.0418 H   0  0  0  0  0  0  0  0  0  0  0  0\\n  1  2  1  0\\n  2  3  1  0\\n  2  4  1  0\\n  4  5  2  0\\n  5  6  1  0\\n  6  7  2  0\\n  7  8  1  0\\n  8  9  2  3\\n  9 10  1  0\\n 10 11  2  0\\n 11 12  1  0\\n 12 13  2  0\\n 13 14  1  0\\n 14 15  2  0\\n 15 16  1  0\\n 16 17  3  0\\n 15 18  1  0\\n 18 19  2  0\\n 18 20  1  0\\n 13 21  1  0\\n  8 22  1  0\\n 22 23  2  0\\n 23 24  1  0\\n 24 25  2  0\\n 25 26  1  0\\n 26 27  1  0\\n 26 28  1  0\\n 25 29  1  0\\n 29 30  2  0\\n  7 31  1  0\\n 31 32  2  0\\n 21 10  1  0\\n 30 22  1  0\\n 32  4  1  0\\n  1 33  1  0\\n  1 34  1  0\\n  1 35  1  0\\n  3 36  1  0\\n  3 37  1  0\\n  3 38  1  0\\n  5 39  1  0\\n  6 40  1  0\\n  9 41  1  0\\n 11 42  1  0\\n 12 43  1  0\\n 14 44  1  0\\n 20 45  1  0\\n 23 46  1  0\\n 24 47  1  0\\n 27 48  1  0\\n 27 49  1  0\\n 27 50  1  0\\n 28 51  1  0\\n 28 52  1  0\\n 28 53  1  0\\n 29 54  1  0\\n 30 55  1  0\\n 31 56  1  0\\n 32 57  1  0\\nM  END\\n\",\"mol\");\n\tviewer_16606684112881746.setStyle({\"stick\": {}});\n\tviewer_16606684112881746.zoomTo();\nviewer_16606684112881746.render();\n});\n</script>",
      "text/html": [
       "<div id=\"3dmolviewer_16606684112881746\"  style=\"position: relative; width: 300px; height: 300px\">\n",
       "        <p id=\"3dmolwarning_16606684112881746\" style=\"background-color:#ffcccc;color:black\">You appear to be running in JupyterLab (or JavaScript failed to load for some other reason).  You need to install the 3dmol extension: <br>\n",
       "        <tt>jupyter labextension install jupyterlab_3dmol</tt></p>\n",
       "        </div>\n",
       "<script>\n",
       "\n",
       "var loadScriptAsync = function(uri){\n",
       "  return new Promise((resolve, reject) => {\n",
       "    var tag = document.createElement('script');\n",
       "    tag.src = uri;\n",
       "    tag.async = true;\n",
       "    tag.onload = () => {\n",
       "      resolve();\n",
       "    };\n",
       "  var firstScriptTag = document.getElementsByTagName('script')[0];\n",
       "  firstScriptTag.parentNode.insertBefore(tag, firstScriptTag);\n",
       "});\n",
       "};\n",
       "\n",
       "if(typeof $3Dmolpromise === 'undefined') {\n",
       "$3Dmolpromise = null;\n",
       "  $3Dmolpromise = loadScriptAsync('https://cdn.jsdelivr.net/npm/3dmol@latest/build/3Dmol-min.min.js');\n",
       "}\n",
       "\n",
       "var viewer_16606684112881746 = null;\n",
       "var warn = document.getElementById(\"3dmolwarning_16606684112881746\");\n",
       "if(warn) {\n",
       "    warn.parentNode.removeChild(warn);\n",
       "}\n",
       "$3Dmolpromise.then(function() {\n",
       "viewer_16606684112881746 = $3Dmol.createViewer($(\"#3dmolviewer_16606684112881746\"),{backgroundColor:\"white\"});\n",
       "viewer_16606684112881746.zoomTo();\n",
       "\tviewer_16606684112881746.addModel(\"\\n     RDKit          3D\\n\\n 57 59  0  0  0  0  0  0  0  0999 V2000\\n   -7.3518   -0.6579   -0.7121 C   0  0  0  0  0  0  0  0  0  0  0  0\\n   -6.6022   -0.3673    0.5098 N   0  0  0  0  0  0  0  0  0  0  0  0\\n   -7.2163    0.6092    1.4054 C   0  0  0  0  0  0  0  0  0  0  0  0\\n   -5.2043   -0.4516    0.4414 C   0  0  0  0  0  0  0  0  0  0  0  0\\n   -4.3576    0.3330    1.2416 C   0  0  0  0  0  0  0  0  0  0  0  0\\n   -2.9593    0.2433    1.1639 C   0  0  0  0  0  0  0  0  0  0  0  0\\n   -2.3530   -0.6575    0.2902 C   0  0  0  0  0  0  0  0  0  0  0  0\\n   -0.8712   -0.7142    0.1852 C   0  0  0  0  0  0  0  0  0  0  0  0\\n   -0.2991   -1.9062    0.4790 C   0  0  0  0  0  0  0  0  0  0  0  0\\n    1.0970   -2.1786    0.3799 C   0  0  0  0  0  0  0  0  0  0  0  0\\n    1.9711   -1.9743   -0.6698 C   0  0  0  0  0  0  0  0  0  0  0  0\\n    3.3106   -2.3484   -0.3601 C   0  0  0  0  0  0  0  0  0  0  0  0\\n    3.4528   -2.8231    0.9308 C   0  0  0  0  0  0  0  0  0  0  0  0\\n    4.5988   -3.2722    1.6551 C   0  0  0  0  0  0  0  0  0  0  0  0\\n    5.8272   -2.7192    1.5799 C   0  0  0  0  0  0  0  0  0  0  0  0\\n    6.1482   -1.5933    0.7713 C   0  0  0  0  0  0  0  0  0  0  0  0\\n    6.3936   -0.6822    0.0941 N   0  0  0  0  0  0  0  0  0  0  0  0\\n    6.9358   -3.2609    2.3983 C   0  0  0  0  0  0  0  0  0  0  0  0\\n    8.0833   -2.8483    2.4029 O   0  0  0  0  0  0  0  0  0  0  0  0\\n    6.5907   -4.2950    3.1873 O   0  0  0  0  0  0  0  0  0  0  0  0\\n    1.9137   -2.8964    1.7084 S   0  0  0  0  0  0  0  0  0  0  0  0\\n   -0.0779    0.4861   -0.1893 C   0  0  0  0  0  0  0  0  0  0  0  0\\n    0.8866    1.0204    0.6666 C   0  0  0  0  0  0  0  0  0  0  0  0\\n    1.6332    2.1420    0.2853 C   0  0  0  0  0  0  0  0  0  0  0  0\\n    1.4452    2.7795   -0.9520 C   0  0  0  0  0  0  0  0  0  0  0  0\\n    2.2202    3.8977   -1.3004 N   0  0  0  0  0  0  0  0  0  0  0  0\\n    1.8641    4.6457   -2.5034 C   0  0  0  0  0  0  0  0  0  0  0  0\\n    3.6625    3.7328   -1.0914 C   0  0  0  0  0  0  0  0  0  0  0  0\\n    0.4315    2.2604   -1.7723 C   0  0  0  0  0  0  0  0  0  0  0  0\\n   -0.3158    1.1319   -1.4039 C   0  0  0  0  0  0  0  0  0  0  0  0\\n   -3.1707   -1.4659   -0.5012 C   0  0  0  0  0  0  0  0  0  0  0  0\\n   -4.5671   -1.3652   -0.4175 C   0  0  0  0  0  0  0  0  0  0  0  0\\n   -7.3195   -1.7251   -0.9505 H   0  0  0  0  0  0  0  0  0  0  0  0\\n   -8.4108   -0.4040   -0.5996 H   0  0  0  0  0  0  0  0  0  0  0  0\\n   -6.9677   -0.0840   -1.5614 H   0  0  0  0  0  0  0  0  0  0  0  0\\n   -8.3034    0.4771    1.4373 H   0  0  0  0  0  0  0  0  0  0  0  0\\n   -6.8676    0.4787    2.4355 H   0  0  0  0  0  0  0  0  0  0  0  0\\n   -7.0124    1.6331    1.0742 H   0  0  0  0  0  0  0  0  0  0  0  0\\n   -4.7609    1.0581    1.9417 H   0  0  0  0  0  0  0  0  0  0  0  0\\n   -2.3535    0.8908    1.7936 H   0  0  0  0  0  0  0  0  0  0  0  0\\n   -0.9220   -2.7306    0.8290 H   0  0  0  0  0  0  0  0  0  0  0  0\\n    1.6651   -1.5638   -1.6241 H   0  0  0  0  0  0  0  0  0  0  0  0\\n    4.1247   -2.2563   -1.0707 H   0  0  0  0  0  0  0  0  0  0  0  0\\n    4.4255   -4.1001    2.3414 H   0  0  0  0  0  0  0  0  0  0  0  0\\n    7.4228   -4.5248    3.6545 H   0  0  0  0  0  0  0  0  0  0  0  0\\n    1.0733    0.5698    1.6379 H   0  0  0  0  0  0  0  0  0  0  0  0\\n    2.3588    2.5268    0.9951 H   0  0  0  0  0  0  0  0  0  0  0  0\\n    2.0715    4.0675   -3.4116 H   0  0  0  0  0  0  0  0  0  0  0  0\\n    2.4438    5.5745   -2.5564 H   0  0  0  0  0  0  0  0  0  0  0  0\\n    0.8098    4.9440   -2.4887 H   0  0  0  0  0  0  0  0  0  0  0  0\\n    4.0436    2.8644   -1.6411 H   0  0  0  0  0  0  0  0  0  0  0  0\\n    4.2076    4.6142   -1.4434 H   0  0  0  0  0  0  0  0  0  0  0  0\\n    3.9123    3.6288   -0.0326 H   0  0  0  0  0  0  0  0  0  0  0  0\\n    0.2061    2.7067   -2.7350 H   0  0  0  0  0  0  0  0  0  0  0  0\\n   -1.0814    0.7620   -2.0820 H   0  0  0  0  0  0  0  0  0  0  0  0\\n   -2.7360   -2.1763   -1.1998 H   0  0  0  0  0  0  0  0  0  0  0  0\\n   -5.1498   -2.0356   -1.0418 H   0  0  0  0  0  0  0  0  0  0  0  0\\n  1  2  1  0\\n  2  3  1  0\\n  2  4  1  0\\n  4  5  2  0\\n  5  6  1  0\\n  6  7  2  0\\n  7  8  1  0\\n  8  9  2  3\\n  9 10  1  0\\n 10 11  2  0\\n 11 12  1  0\\n 12 13  2  0\\n 13 14  1  0\\n 14 15  2  0\\n 15 16  1  0\\n 16 17  3  0\\n 15 18  1  0\\n 18 19  2  0\\n 18 20  1  0\\n 13 21  1  0\\n  8 22  1  0\\n 22 23  2  0\\n 23 24  1  0\\n 24 25  2  0\\n 25 26  1  0\\n 26 27  1  0\\n 26 28  1  0\\n 25 29  1  0\\n 29 30  2  0\\n  7 31  1  0\\n 31 32  2  0\\n 21 10  1  0\\n 30 22  1  0\\n 32  4  1  0\\n  1 33  1  0\\n  1 34  1  0\\n  1 35  1  0\\n  3 36  1  0\\n  3 37  1  0\\n  3 38  1  0\\n  5 39  1  0\\n  6 40  1  0\\n  9 41  1  0\\n 11 42  1  0\\n 12 43  1  0\\n 14 44  1  0\\n 20 45  1  0\\n 23 46  1  0\\n 24 47  1  0\\n 27 48  1  0\\n 27 49  1  0\\n 27 50  1  0\\n 28 51  1  0\\n 28 52  1  0\\n 28 53  1  0\\n 29 54  1  0\\n 30 55  1  0\\n 31 56  1  0\\n 32 57  1  0\\nM  END\\n\",\"mol\");\n",
       "\tviewer_16606684112881746.setStyle({\"stick\": {}});\n",
       "\tviewer_16606684112881746.zoomTo();\n",
       "viewer_16606684112881746.render();\n",
       "});\n",
       "</script>"
      ]
     },
     "metadata": {},
     "output_type": "display_data"
    }
   ],
   "source": [
    "# !pip install py3Dmol\n",
    "import py3Dmol\n",
    "def show(smi, style='stick'):\n",
    "    smiles_to_mol = Chem.MolFromSmiles(smi)\n",
    "    add_hs = Chem.AddHs(smiles_to_mol)\n",
    "    AllChem.EmbedMolecule(add_hs)\n",
    "    AllChem.MMFFOptimizeMolecule(add_hs, maxIters=200)\n",
    "    mblock = Chem.MolToMolBlock(add_hs)\n",
    "\n",
    "    view = py3Dmol.view(width=300, height=300)\n",
    "    view.addModel(mblock, 'mol')\n",
    "    view.setStyle({style:{}})\n",
    "    view.zoomTo()\n",
    "    view.show()\n",
    "    \n",
    "# example\n",
    "show(data.SMILES[2])  # or 'P'"
   ]
  },
  {
   "cell_type": "code",
   "execution_count": 10,
   "metadata": {},
   "outputs": [
    {
     "data": {
      "image/png": "[encoded data removed]",
      "text/plain": [
       "<rdkit.Chem.rdchem.Mol at 0x28b9ef4c2e0>"
      ]
     },
     "execution_count": 10,
     "metadata": {},
     "output_type": "execute_result"
    }
   ],
   "source": [
    "Chem.MolFromSmiles(data.SMILES[2])"
   ]
  },
  {
   "cell_type": "markdown",
   "metadata": {},
   "source": [
    "## "
   ]
  },
  {
   "cell_type": "code",
   "execution_count": null,
   "metadata": {},
   "outputs": [],
   "source": []
  }
 ],
 "metadata": {
  "kernelspec": {
   "display_name": "Python 3.9.6 ('my-rdkit-env')",
   "language": "python",
   "name": "python3"
  },
  "language_info": {
   "codemirror_mode": {
    "name": "ipython",
    "version": 3
   },
   "file_extension": ".py",
   "mimetype": "text/x-python",
   "name": "python",
   "nbconvert_exporter": "python",
   "pygments_lexer": "ipython3",
   "version": "3.9.6"
  },
  "orig_nbformat": 4,
  "vscode": {
   "interpreter": {
    "hash": "e86df7722843628272ad0f839d29364cf388b3da7b0fa18e6bb0e4b0475c94d2"
   }
  }
 },
 "nbformat": 4,
 "nbformat_minor": 2
}
